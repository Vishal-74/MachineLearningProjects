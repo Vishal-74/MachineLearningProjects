{
  "nbformat": 4,
  "nbformat_minor": 0,
  "metadata": {
    "colab": {
      "provenance": [],
      "gpuType": "T4",
      "include_colab_link": true
    },
    "kernelspec": {
      "name": "python3",
      "display_name": "Python 3"
    },
    "language_info": {
      "name": "python"
    },
    "accelerator": "GPU"
  },
  "cells": [
    {
      "cell_type": "markdown",
      "metadata": {
        "id": "view-in-github",
        "colab_type": "text"
      },
      "source": [
        "<a href=\"https://colab.research.google.com/github/Vishal-74/MachineLearningProjects/blob/main/loan_aprooval.ipynb\" target=\"_parent\"><img src=\"https://colab.research.google.com/assets/colab-badge.svg\" alt=\"Open In Colab\"/></a>"
      ]
    },
    {
      "cell_type": "markdown",
      "source": [
        "IMPORTING LIBRARIES"
      ],
      "metadata": {
        "id": "2wyoXl6P5xDz"
      }
    },
    {
      "cell_type": "code",
      "execution_count": null,
      "metadata": {
        "id": "M0bmrmEGk1SL"
      },
      "outputs": [],
      "source": [
        "import pandas as pd\n",
        "from sklearn.model_selection import train_test_split\n",
        "from sklearn.ensemble import RandomForestClassifier\n",
        "from sklearn.metrics import accuracy_score\n",
        "from sklearn.preprocessing import LabelEncoder\n",
        "import seaborn as sns\n",
        "import matplotlib.pyplot as plt\n",
        "import joblib\n",
        "from sklearn.tree import export_graphviz\n",
        "import graphviz\n",
        "import numpy as np"
      ]
    },
    {
      "cell_type": "code",
      "source": [
        "loan_df = pd.read_csv(\"/content/loan_approval_dataset.csv\")"
      ],
      "metadata": {
        "id": "r6P5OL7dyZVV"
      },
      "execution_count": null,
      "outputs": []
    },
    {
      "cell_type": "code",
      "source": [
        "loan_df.head()"
      ],
      "metadata": {
        "id": "IC-egmRC0KiN",
        "colab": {
          "base_uri": "https://localhost:8080/",
          "height": 261
        },
        "outputId": "d8711f5b-7427-4cb2-ac2b-567d85157f1b"
      },
      "execution_count": null,
      "outputs": [
        {
          "output_type": "execute_result",
          "data": {
            "text/plain": [
              "   loan_id   no_of_dependents      education  self_employed   income_annum  \\\n",
              "0        1                  2       Graduate             No        9600000   \n",
              "1        2                  0   Not Graduate            Yes        4100000   \n",
              "2        3                  3       Graduate             No        9100000   \n",
              "3        4                  3       Graduate             No        8200000   \n",
              "4        5                  5   Not Graduate            Yes        9800000   \n",
              "\n",
              "    loan_amount   loan_term   cibil_score   residential_assets_value  \\\n",
              "0      29900000          12           778                    2400000   \n",
              "1      12200000           8           417                    2700000   \n",
              "2      29700000          20           506                    7100000   \n",
              "3      30700000           8           467                   18200000   \n",
              "4      24200000          20           382                   12400000   \n",
              "\n",
              "    commercial_assets_value   luxury_assets_value   bank_asset_value  \\\n",
              "0                  17600000              22700000            8000000   \n",
              "1                   2200000               8800000            3300000   \n",
              "2                   4500000              33300000           12800000   \n",
              "3                   3300000              23300000            7900000   \n",
              "4                   8200000              29400000            5000000   \n",
              "\n",
              "   loan_status  \n",
              "0     Approved  \n",
              "1     Rejected  \n",
              "2     Rejected  \n",
              "3     Rejected  \n",
              "4     Rejected  "
            ],
            "text/html": [
              "\n",
              "  <div id=\"df-6d9b8086-b95d-4986-a835-1f6ed0a750a5\" class=\"colab-df-container\">\n",
              "    <div>\n",
              "<style scoped>\n",
              "    .dataframe tbody tr th:only-of-type {\n",
              "        vertical-align: middle;\n",
              "    }\n",
              "\n",
              "    .dataframe tbody tr th {\n",
              "        vertical-align: top;\n",
              "    }\n",
              "\n",
              "    .dataframe thead th {\n",
              "        text-align: right;\n",
              "    }\n",
              "</style>\n",
              "<table border=\"1\" class=\"dataframe\">\n",
              "  <thead>\n",
              "    <tr style=\"text-align: right;\">\n",
              "      <th></th>\n",
              "      <th>loan_id</th>\n",
              "      <th>no_of_dependents</th>\n",
              "      <th>education</th>\n",
              "      <th>self_employed</th>\n",
              "      <th>income_annum</th>\n",
              "      <th>loan_amount</th>\n",
              "      <th>loan_term</th>\n",
              "      <th>cibil_score</th>\n",
              "      <th>residential_assets_value</th>\n",
              "      <th>commercial_assets_value</th>\n",
              "      <th>luxury_assets_value</th>\n",
              "      <th>bank_asset_value</th>\n",
              "      <th>loan_status</th>\n",
              "    </tr>\n",
              "  </thead>\n",
              "  <tbody>\n",
              "    <tr>\n",
              "      <th>0</th>\n",
              "      <td>1</td>\n",
              "      <td>2</td>\n",
              "      <td>Graduate</td>\n",
              "      <td>No</td>\n",
              "      <td>9600000</td>\n",
              "      <td>29900000</td>\n",
              "      <td>12</td>\n",
              "      <td>778</td>\n",
              "      <td>2400000</td>\n",
              "      <td>17600000</td>\n",
              "      <td>22700000</td>\n",
              "      <td>8000000</td>\n",
              "      <td>Approved</td>\n",
              "    </tr>\n",
              "    <tr>\n",
              "      <th>1</th>\n",
              "      <td>2</td>\n",
              "      <td>0</td>\n",
              "      <td>Not Graduate</td>\n",
              "      <td>Yes</td>\n",
              "      <td>4100000</td>\n",
              "      <td>12200000</td>\n",
              "      <td>8</td>\n",
              "      <td>417</td>\n",
              "      <td>2700000</td>\n",
              "      <td>2200000</td>\n",
              "      <td>8800000</td>\n",
              "      <td>3300000</td>\n",
              "      <td>Rejected</td>\n",
              "    </tr>\n",
              "    <tr>\n",
              "      <th>2</th>\n",
              "      <td>3</td>\n",
              "      <td>3</td>\n",
              "      <td>Graduate</td>\n",
              "      <td>No</td>\n",
              "      <td>9100000</td>\n",
              "      <td>29700000</td>\n",
              "      <td>20</td>\n",
              "      <td>506</td>\n",
              "      <td>7100000</td>\n",
              "      <td>4500000</td>\n",
              "      <td>33300000</td>\n",
              "      <td>12800000</td>\n",
              "      <td>Rejected</td>\n",
              "    </tr>\n",
              "    <tr>\n",
              "      <th>3</th>\n",
              "      <td>4</td>\n",
              "      <td>3</td>\n",
              "      <td>Graduate</td>\n",
              "      <td>No</td>\n",
              "      <td>8200000</td>\n",
              "      <td>30700000</td>\n",
              "      <td>8</td>\n",
              "      <td>467</td>\n",
              "      <td>18200000</td>\n",
              "      <td>3300000</td>\n",
              "      <td>23300000</td>\n",
              "      <td>7900000</td>\n",
              "      <td>Rejected</td>\n",
              "    </tr>\n",
              "    <tr>\n",
              "      <th>4</th>\n",
              "      <td>5</td>\n",
              "      <td>5</td>\n",
              "      <td>Not Graduate</td>\n",
              "      <td>Yes</td>\n",
              "      <td>9800000</td>\n",
              "      <td>24200000</td>\n",
              "      <td>20</td>\n",
              "      <td>382</td>\n",
              "      <td>12400000</td>\n",
              "      <td>8200000</td>\n",
              "      <td>29400000</td>\n",
              "      <td>5000000</td>\n",
              "      <td>Rejected</td>\n",
              "    </tr>\n",
              "  </tbody>\n",
              "</table>\n",
              "</div>\n",
              "    <div class=\"colab-df-buttons\">\n",
              "\n",
              "  <div class=\"colab-df-container\">\n",
              "    <button class=\"colab-df-convert\" onclick=\"convertToInteractive('df-6d9b8086-b95d-4986-a835-1f6ed0a750a5')\"\n",
              "            title=\"Convert this dataframe to an interactive table.\"\n",
              "            style=\"display:none;\">\n",
              "\n",
              "  <svg xmlns=\"http://www.w3.org/2000/svg\" height=\"24px\" viewBox=\"0 -960 960 960\">\n",
              "    <path d=\"M120-120v-720h720v720H120Zm60-500h600v-160H180v160Zm220 220h160v-160H400v160Zm0 220h160v-160H400v160ZM180-400h160v-160H180v160Zm440 0h160v-160H620v160ZM180-180h160v-160H180v160Zm440 0h160v-160H620v160Z\"/>\n",
              "  </svg>\n",
              "    </button>\n",
              "\n",
              "  <style>\n",
              "    .colab-df-container {\n",
              "      display:flex;\n",
              "      gap: 12px;\n",
              "    }\n",
              "\n",
              "    .colab-df-convert {\n",
              "      background-color: #E8F0FE;\n",
              "      border: none;\n",
              "      border-radius: 50%;\n",
              "      cursor: pointer;\n",
              "      display: none;\n",
              "      fill: #1967D2;\n",
              "      height: 32px;\n",
              "      padding: 0 0 0 0;\n",
              "      width: 32px;\n",
              "    }\n",
              "\n",
              "    .colab-df-convert:hover {\n",
              "      background-color: #E2EBFA;\n",
              "      box-shadow: 0px 1px 2px rgba(60, 64, 67, 0.3), 0px 1px 3px 1px rgba(60, 64, 67, 0.15);\n",
              "      fill: #174EA6;\n",
              "    }\n",
              "\n",
              "    .colab-df-buttons div {\n",
              "      margin-bottom: 4px;\n",
              "    }\n",
              "\n",
              "    [theme=dark] .colab-df-convert {\n",
              "      background-color: #3B4455;\n",
              "      fill: #D2E3FC;\n",
              "    }\n",
              "\n",
              "    [theme=dark] .colab-df-convert:hover {\n",
              "      background-color: #434B5C;\n",
              "      box-shadow: 0px 1px 3px 1px rgba(0, 0, 0, 0.15);\n",
              "      filter: drop-shadow(0px 1px 2px rgba(0, 0, 0, 0.3));\n",
              "      fill: #FFFFFF;\n",
              "    }\n",
              "  </style>\n",
              "\n",
              "    <script>\n",
              "      const buttonEl =\n",
              "        document.querySelector('#df-6d9b8086-b95d-4986-a835-1f6ed0a750a5 button.colab-df-convert');\n",
              "      buttonEl.style.display =\n",
              "        google.colab.kernel.accessAllowed ? 'block' : 'none';\n",
              "\n",
              "      async function convertToInteractive(key) {\n",
              "        const element = document.querySelector('#df-6d9b8086-b95d-4986-a835-1f6ed0a750a5');\n",
              "        const dataTable =\n",
              "          await google.colab.kernel.invokeFunction('convertToInteractive',\n",
              "                                                    [key], {});\n",
              "        if (!dataTable) return;\n",
              "\n",
              "        const docLinkHtml = 'Like what you see? Visit the ' +\n",
              "          '<a target=\"_blank\" href=https://colab.research.google.com/notebooks/data_table.ipynb>data table notebook</a>'\n",
              "          + ' to learn more about interactive tables.';\n",
              "        element.innerHTML = '';\n",
              "        dataTable['output_type'] = 'display_data';\n",
              "        await google.colab.output.renderOutput(dataTable, element);\n",
              "        const docLink = document.createElement('div');\n",
              "        docLink.innerHTML = docLinkHtml;\n",
              "        element.appendChild(docLink);\n",
              "      }\n",
              "    </script>\n",
              "  </div>\n",
              "\n",
              "\n",
              "<div id=\"df-35fadc51-841e-4e90-959e-a8f07d0c4400\">\n",
              "  <button class=\"colab-df-quickchart\" onclick=\"quickchart('df-35fadc51-841e-4e90-959e-a8f07d0c4400')\"\n",
              "            title=\"Suggest charts\"\n",
              "            style=\"display:none;\">\n",
              "\n",
              "<svg xmlns=\"http://www.w3.org/2000/svg\" height=\"24px\"viewBox=\"0 0 24 24\"\n",
              "     width=\"24px\">\n",
              "    <g>\n",
              "        <path d=\"M19 3H5c-1.1 0-2 .9-2 2v14c0 1.1.9 2 2 2h14c1.1 0 2-.9 2-2V5c0-1.1-.9-2-2-2zM9 17H7v-7h2v7zm4 0h-2V7h2v10zm4 0h-2v-4h2v4z\"/>\n",
              "    </g>\n",
              "</svg>\n",
              "  </button>\n",
              "\n",
              "<style>\n",
              "  .colab-df-quickchart {\n",
              "      --bg-color: #E8F0FE;\n",
              "      --fill-color: #1967D2;\n",
              "      --hover-bg-color: #E2EBFA;\n",
              "      --hover-fill-color: #174EA6;\n",
              "      --disabled-fill-color: #AAA;\n",
              "      --disabled-bg-color: #DDD;\n",
              "  }\n",
              "\n",
              "  [theme=dark] .colab-df-quickchart {\n",
              "      --bg-color: #3B4455;\n",
              "      --fill-color: #D2E3FC;\n",
              "      --hover-bg-color: #434B5C;\n",
              "      --hover-fill-color: #FFFFFF;\n",
              "      --disabled-bg-color: #3B4455;\n",
              "      --disabled-fill-color: #666;\n",
              "  }\n",
              "\n",
              "  .colab-df-quickchart {\n",
              "    background-color: var(--bg-color);\n",
              "    border: none;\n",
              "    border-radius: 50%;\n",
              "    cursor: pointer;\n",
              "    display: none;\n",
              "    fill: var(--fill-color);\n",
              "    height: 32px;\n",
              "    padding: 0;\n",
              "    width: 32px;\n",
              "  }\n",
              "\n",
              "  .colab-df-quickchart:hover {\n",
              "    background-color: var(--hover-bg-color);\n",
              "    box-shadow: 0 1px 2px rgba(60, 64, 67, 0.3), 0 1px 3px 1px rgba(60, 64, 67, 0.15);\n",
              "    fill: var(--button-hover-fill-color);\n",
              "  }\n",
              "\n",
              "  .colab-df-quickchart-complete:disabled,\n",
              "  .colab-df-quickchart-complete:disabled:hover {\n",
              "    background-color: var(--disabled-bg-color);\n",
              "    fill: var(--disabled-fill-color);\n",
              "    box-shadow: none;\n",
              "  }\n",
              "\n",
              "  .colab-df-spinner {\n",
              "    border: 2px solid var(--fill-color);\n",
              "    border-color: transparent;\n",
              "    border-bottom-color: var(--fill-color);\n",
              "    animation:\n",
              "      spin 1s steps(1) infinite;\n",
              "  }\n",
              "\n",
              "  @keyframes spin {\n",
              "    0% {\n",
              "      border-color: transparent;\n",
              "      border-bottom-color: var(--fill-color);\n",
              "      border-left-color: var(--fill-color);\n",
              "    }\n",
              "    20% {\n",
              "      border-color: transparent;\n",
              "      border-left-color: var(--fill-color);\n",
              "      border-top-color: var(--fill-color);\n",
              "    }\n",
              "    30% {\n",
              "      border-color: transparent;\n",
              "      border-left-color: var(--fill-color);\n",
              "      border-top-color: var(--fill-color);\n",
              "      border-right-color: var(--fill-color);\n",
              "    }\n",
              "    40% {\n",
              "      border-color: transparent;\n",
              "      border-right-color: var(--fill-color);\n",
              "      border-top-color: var(--fill-color);\n",
              "    }\n",
              "    60% {\n",
              "      border-color: transparent;\n",
              "      border-right-color: var(--fill-color);\n",
              "    }\n",
              "    80% {\n",
              "      border-color: transparent;\n",
              "      border-right-color: var(--fill-color);\n",
              "      border-bottom-color: var(--fill-color);\n",
              "    }\n",
              "    90% {\n",
              "      border-color: transparent;\n",
              "      border-bottom-color: var(--fill-color);\n",
              "    }\n",
              "  }\n",
              "</style>\n",
              "\n",
              "  <script>\n",
              "    async function quickchart(key) {\n",
              "      const quickchartButtonEl =\n",
              "        document.querySelector('#' + key + ' button');\n",
              "      quickchartButtonEl.disabled = true;  // To prevent multiple clicks.\n",
              "      quickchartButtonEl.classList.add('colab-df-spinner');\n",
              "      try {\n",
              "        const charts = await google.colab.kernel.invokeFunction(\n",
              "            'suggestCharts', [key], {});\n",
              "      } catch (error) {\n",
              "        console.error('Error during call to suggestCharts:', error);\n",
              "      }\n",
              "      quickchartButtonEl.classList.remove('colab-df-spinner');\n",
              "      quickchartButtonEl.classList.add('colab-df-quickchart-complete');\n",
              "    }\n",
              "    (() => {\n",
              "      let quickchartButtonEl =\n",
              "        document.querySelector('#df-35fadc51-841e-4e90-959e-a8f07d0c4400 button');\n",
              "      quickchartButtonEl.style.display =\n",
              "        google.colab.kernel.accessAllowed ? 'block' : 'none';\n",
              "    })();\n",
              "  </script>\n",
              "</div>\n",
              "\n",
              "    </div>\n",
              "  </div>\n"
            ],
            "application/vnd.google.colaboratory.intrinsic+json": {
              "type": "dataframe",
              "variable_name": "loan_df",
              "summary": "{\n  \"name\": \"loan_df\",\n  \"rows\": 4269,\n  \"fields\": [\n    {\n      \"column\": \"loan_id\",\n      \"properties\": {\n        \"dtype\": \"number\",\n        \"std\": 1232,\n        \"min\": 1,\n        \"max\": 4269,\n        \"num_unique_values\": 4269,\n        \"samples\": [\n          1704,\n          1174,\n          309\n        ],\n        \"semantic_type\": \"\",\n        \"description\": \"\"\n      }\n    },\n    {\n      \"column\": \" no_of_dependents\",\n      \"properties\": {\n        \"dtype\": \"number\",\n        \"std\": 1,\n        \"min\": 0,\n        \"max\": 5,\n        \"num_unique_values\": 6,\n        \"samples\": [\n          2,\n          0,\n          1\n        ],\n        \"semantic_type\": \"\",\n        \"description\": \"\"\n      }\n    },\n    {\n      \"column\": \" education\",\n      \"properties\": {\n        \"dtype\": \"category\",\n        \"num_unique_values\": 2,\n        \"samples\": [\n          \" Not Graduate\",\n          \" Graduate\"\n        ],\n        \"semantic_type\": \"\",\n        \"description\": \"\"\n      }\n    },\n    {\n      \"column\": \" self_employed\",\n      \"properties\": {\n        \"dtype\": \"category\",\n        \"num_unique_values\": 2,\n        \"samples\": [\n          \" Yes\",\n          \" No\"\n        ],\n        \"semantic_type\": \"\",\n        \"description\": \"\"\n      }\n    },\n    {\n      \"column\": \" income_annum\",\n      \"properties\": {\n        \"dtype\": \"number\",\n        \"std\": 2806839,\n        \"min\": 200000,\n        \"max\": 9900000,\n        \"num_unique_values\": 98,\n        \"samples\": [\n          6200000,\n          9300000\n        ],\n        \"semantic_type\": \"\",\n        \"description\": \"\"\n      }\n    },\n    {\n      \"column\": \" loan_amount\",\n      \"properties\": {\n        \"dtype\": \"number\",\n        \"std\": 9043362,\n        \"min\": 300000,\n        \"max\": 39500000,\n        \"num_unique_values\": 378,\n        \"samples\": [\n          25800000,\n          26100000\n        ],\n        \"semantic_type\": \"\",\n        \"description\": \"\"\n      }\n    },\n    {\n      \"column\": \" loan_term\",\n      \"properties\": {\n        \"dtype\": \"number\",\n        \"std\": 5,\n        \"min\": 2,\n        \"max\": 20,\n        \"num_unique_values\": 10,\n        \"samples\": [\n          14,\n          8\n        ],\n        \"semantic_type\": \"\",\n        \"description\": \"\"\n      }\n    },\n    {\n      \"column\": \" cibil_score\",\n      \"properties\": {\n        \"dtype\": \"number\",\n        \"std\": 172,\n        \"min\": 300,\n        \"max\": 900,\n        \"num_unique_values\": 601,\n        \"samples\": [\n          859,\n          414\n        ],\n        \"semantic_type\": \"\",\n        \"description\": \"\"\n      }\n    },\n    {\n      \"column\": \" residential_assets_value\",\n      \"properties\": {\n        \"dtype\": \"number\",\n        \"std\": 6503636,\n        \"min\": -100000,\n        \"max\": 29100000,\n        \"num_unique_values\": 278,\n        \"samples\": [\n          700000,\n          3500000\n        ],\n        \"semantic_type\": \"\",\n        \"description\": \"\"\n      }\n    },\n    {\n      \"column\": \" commercial_assets_value\",\n      \"properties\": {\n        \"dtype\": \"number\",\n        \"std\": 4388966,\n        \"min\": 0,\n        \"max\": 19400000,\n        \"num_unique_values\": 188,\n        \"samples\": [\n          13500000,\n          14600000\n        ],\n        \"semantic_type\": \"\",\n        \"description\": \"\"\n      }\n    },\n    {\n      \"column\": \" luxury_assets_value\",\n      \"properties\": {\n        \"dtype\": \"number\",\n        \"std\": 9103753,\n        \"min\": 300000,\n        \"max\": 39200000,\n        \"num_unique_values\": 379,\n        \"samples\": [\n          15300000,\n          12100000\n        ],\n        \"semantic_type\": \"\",\n        \"description\": \"\"\n      }\n    },\n    {\n      \"column\": \" bank_asset_value\",\n      \"properties\": {\n        \"dtype\": \"number\",\n        \"std\": 3250185,\n        \"min\": 0,\n        \"max\": 14700000,\n        \"num_unique_values\": 146,\n        \"samples\": [\n          4800000,\n          14400000\n        ],\n        \"semantic_type\": \"\",\n        \"description\": \"\"\n      }\n    },\n    {\n      \"column\": \" loan_status\",\n      \"properties\": {\n        \"dtype\": \"category\",\n        \"num_unique_values\": 2,\n        \"samples\": [\n          \" Rejected\",\n          \" Approved\"\n        ],\n        \"semantic_type\": \"\",\n        \"description\": \"\"\n      }\n    }\n  ]\n}"
            }
          },
          "metadata": {},
          "execution_count": 3
        }
      ]
    },
    {
      "cell_type": "markdown",
      "source": [
        "DROPPING EMPTY ROWS"
      ],
      "metadata": {
        "id": "vh_vkDOX57KZ"
      }
    },
    {
      "cell_type": "code",
      "source": [
        "loan_df.dropna(inplace=True)"
      ],
      "metadata": {
        "id": "yoTSsids0kBP"
      },
      "execution_count": null,
      "outputs": []
    },
    {
      "cell_type": "code",
      "source": [
        "loan_df.loan_status"
      ],
      "metadata": {
        "colab": {
          "base_uri": "https://localhost:8080/",
          "height": 144
        },
        "id": "22yZlAUHPb18",
        "outputId": "b3c8be81-8441-419e-b4bf-07898de571bd",
        "collapsed": true
      },
      "execution_count": null,
      "outputs": [
        {
          "output_type": "error",
          "ename": "NameError",
          "evalue": "name 'loan_df' is not defined",
          "traceback": [
            "\u001b[0;31m---------------------------------------------------------------------------\u001b[0m",
            "\u001b[0;31mNameError\u001b[0m                                 Traceback (most recent call last)",
            "\u001b[0;32m<ipython-input-1-bb7881dc5a4e>\u001b[0m in \u001b[0;36m<cell line: 1>\u001b[0;34m()\u001b[0m\n\u001b[0;32m----> 1\u001b[0;31m \u001b[0mloan_df\u001b[0m\u001b[0;34m.\u001b[0m\u001b[0mloan_status\u001b[0m\u001b[0;34m\u001b[0m\u001b[0;34m\u001b[0m\u001b[0m\n\u001b[0m",
            "\u001b[0;31mNameError\u001b[0m: name 'loan_df' is not defined"
          ]
        }
      ]
    },
    {
      "cell_type": "markdown",
      "source": [
        "DRAWING WHOLE STATUS OF LOAN"
      ],
      "metadata": {
        "id": "F2wJ0VZZ6tQw"
      }
    },
    {
      "cell_type": "code",
      "source": [
        "loan_status_counts = loan_df[' loan_status'].value_counts()\n",
        "\n",
        "plt.figure(figsize=(6, 4))\n",
        "plt.bar(loan_status_counts.index, loan_status_counts.values, color=['green', 'red'])\n",
        "plt.title('Loan Status Distribution')\n",
        "plt.xlabel('Loan Status')\n",
        "plt.ylabel('Count')\n",
        "plt.show()"
      ],
      "metadata": {
        "id": "xlmdbR4v0zl0",
        "colab": {
          "base_uri": "https://localhost:8080/",
          "height": 410
        },
        "outputId": "6911cd30-a77d-46d9-ed6b-a5ac4c26f624"
      },
      "execution_count": null,
      "outputs": [
        {
          "output_type": "display_data",
          "data": {
            "text/plain": [
              "<Figure size 600x400 with 1 Axes>"
            ],
            "image/png": "[encoded data removed]"
          },
          "metadata": {}
        }
      ]
    },
    {
      "cell_type": "markdown",
      "source": [
        "DRAWING EDUCATION STATUS"
      ],
      "metadata": {
        "id": "HQitmV0O6zAV"
      }
    },
    {
      "cell_type": "code",
      "source": [
        "education_counts = loan_df[' education'].value_counts()\n",
        "\n",
        "plt.figure(figsize=(6, 6))\n",
        "plt.pie(education_counts, labels=education_counts.index, autopct='%1.1f%%', colors=['blue', 'yellow'])\n",
        "plt.title('Education Distribution')\n",
        "plt.show()"
      ],
      "metadata": {
        "id": "N8tWCfj02IE7",
        "colab": {
          "base_uri": "https://localhost:8080/",
          "height": 521
        },
        "outputId": "e07fe1c2-76fb-400f-b82c-8f738231405e"
      },
      "execution_count": null,
      "outputs": [
        {
          "output_type": "display_data",
          "data": {
            "text/plain": [
              "<Figure size 600x600 with 1 Axes>"
            ],
            "image/png": "[encoded data removed]"
          },
          "metadata": {}
        }
      ]
    },
    {
      "cell_type": "markdown",
      "source": [
        "DRAWING LOAN STATUS BASED ON EDUCATION"
      ],
      "metadata": {
        "id": "P4uqiTyY7Ab9"
      }
    },
    {
      "cell_type": "code",
      "source": [
        "loan_df.columns = loan_df.columns.str.strip()\n",
        "\n",
        "if 'education' in loan_df.columns and 'loan_status' in loan_df.columns:\n",
        "\n",
        "    education_loan_status_counts = loan_df.groupby(['education', 'loan_status']).size().unstack()\n",
        "\n",
        "    plt.figure(figsize=(8, 6))\n",
        "    education_loan_status_counts.plot(kind='bar', stacked=True)\n",
        "    plt.title('Loan Status by Education Level')\n",
        "    plt.xlabel('Education Level')\n",
        "    plt.ylabel('Count')\n",
        "    plt.legend(title='Loan Status', loc='upper right', labels=['Approved', 'Rejected'])\n",
        "    plt.xticks(rotation=0)\n",
        "    plt.tight_layout()\n",
        "    plt.show()"
      ],
      "metadata": {
        "id": "NAe2V4Po2Yga",
        "colab": {
          "base_uri": "https://localhost:8080/",
          "height": 505
        },
        "outputId": "ebf2fa9c-f38b-468d-e048-a67a639378db"
      },
      "execution_count": null,
      "outputs": [
        {
          "output_type": "display_data",
          "data": {
            "text/plain": [
              "<Figure size 800x600 with 0 Axes>"
            ]
          },
          "metadata": {}
        },
        {
          "output_type": "display_data",
          "data": {
            "text/plain": [
              "<Figure size 640x480 with 1 Axes>"
            ],
            "image/png": "[encoded data removed]"
          },
          "metadata": {}
        }
      ]
    },
    {
      "cell_type": "markdown",
      "source": [
        "STATUS BASED ON CIBIL SCORE"
      ],
      "metadata": {
        "id": "1W_bvNGs7Wwm"
      }
    },
    {
      "cell_type": "code",
      "source": [
        "sns.histplot(data=loan_df,x='cibil_score',bins=4,hue='loan_status')\n",
        "plt.title('cibil score')\n",
        "plt.show()"
      ],
      "metadata": {
        "id": "mqchqDPT3S8K",
        "colab": {
          "base_uri": "https://localhost:8080/",
          "height": 472
        },
        "outputId": "3612eb59-0f2c-457c-ad66-2479fa02b4a6"
      },
      "execution_count": null,
      "outputs": [
        {
          "output_type": "display_data",
          "data": {
            "text/plain": [
              "<Figure size 640x480 with 1 Axes>"
            ],
            "image/png": "[encoded data removed]"
          },
          "metadata": {}
        }
      ]
    },
    {
      "cell_type": "markdown",
      "source": [
        "EFFECTS OF DEPENDENT"
      ],
      "metadata": {
        "id": "1wqCmdsq7eGe"
      }
    },
    {
      "cell_type": "code",
      "source": [
        "sns.countplot(x = 'no_of_dependents', data = loan_df, hue = 'loan_status')"
      ],
      "metadata": {
        "id": "Nwx5pbtD3hsb",
        "colab": {
          "base_uri": "https://localhost:8080/",
          "height": 468
        },
        "outputId": "baf408df-203c-4f44-bc83-ba6bac55bb84"
      },
      "execution_count": null,
      "outputs": [
        {
          "output_type": "execute_result",
          "data": {
            "text/plain": [
              "<Axes: xlabel='no_of_dependents', ylabel='count'>"
            ]
          },
          "metadata": {},
          "execution_count": 12
        },
        {
          "output_type": "display_data",
          "data": {
            "text/plain": [
              "<Figure size 640x480 with 1 Axes>"
            ],
            "image/png": "[encoded data removed]"
          },
          "metadata": {}
        }
      ]
    },
    {
      "cell_type": "markdown",
      "source": [
        "EFFECTS OF EMPLOYMENT"
      ],
      "metadata": {
        "id": "qVSHLuKB7i0V"
      }
    },
    {
      "cell_type": "code",
      "source": [
        "sns.countplot(x='self_employed', data = loan_df, hue = 'education').set_title('Self Employed')"
      ],
      "metadata": {
        "id": "v64GE1K331M2"
      },
      "execution_count": null,
      "outputs": []
    },
    {
      "cell_type": "markdown",
      "source": [
        "COVERTING CATEGORICAL VALUE TO NUMERICAL VALUE"
      ],
      "metadata": {
        "id": "w1Oyn7W67mU6"
      }
    },
    {
      "cell_type": "code",
      "source": [
        "label_encoder = LabelEncoder()\n",
        "loan_df['education_numeric'] = label_encoder.fit_transform(loan_df['education'])\n",
        "loan_df['self_employed_numeric'] = label_encoder.fit_transform(loan_df['self_employed'])\n",
        "loan_df['self_employed'] = loan_df['self_employed_numeric']\n",
        "loan_df['education'] = loan_df['education_numeric']\n",
        "loan_df.drop('education_numeric', axis=1, inplace=True)\n",
        "loan_df.drop('self_employed_numeric', axis=1, inplace=True)\n",
        "loan_df.head()"
      ],
      "metadata": {
        "id": "J6t9YVzF33SC"
      },
      "execution_count": null,
      "outputs": []
    },
    {
      "cell_type": "code",
      "source": [
        "print(loan_df.columns)"
      ],
      "metadata": {
        "id": "ZHcAA8uv4of4"
      },
      "execution_count": null,
      "outputs": []
    },
    {
      "cell_type": "markdown",
      "source": [
        "DEFINING FEATURES"
      ],
      "metadata": {
        "id": "IQ_L4VJL73-X"
      }
    },
    {
      "cell_type": "code",
      "source": [
        "features = [\n",
        "    'no_of_dependents', 'education', 'self_employed',\n",
        "       'income_annum', 'loan_amount', 'loan_term', 'cibil_score',\n",
        "       'residential_assets_value', 'commercial_assets_value',\n",
        "       'luxury_assets_value', 'bank_asset_value'\n",
        "]"
      ],
      "metadata": {
        "id": "8MXh0Jks47BR"
      },
      "execution_count": null,
      "outputs": []
    },
    {
      "cell_type": "markdown",
      "source": [
        "DEFINING TARGET"
      ],
      "metadata": {
        "id": "kjXshLFo77qF"
      }
    },
    {
      "cell_type": "code",
      "source": [
        "target = 'loan_status'"
      ],
      "metadata": {
        "id": "4Ssr2aag5V6H"
      },
      "execution_count": null,
      "outputs": []
    },
    {
      "cell_type": "markdown",
      "source": [
        "DEFINING FEATURES IN 'X' AND TARGET IN 'Y'"
      ],
      "metadata": {
        "id": "vSJIrV2Y8AEF"
      }
    },
    {
      "cell_type": "code",
      "source": [
        "X = loan_df[features]\n",
        "y = loan_df[target]\n",
        "X.shape"
      ],
      "metadata": {
        "id": "LmtlIw0S5b0b"
      },
      "execution_count": null,
      "outputs": []
    },
    {
      "cell_type": "markdown",
      "source": [
        "TRAIN TEST SPLIT"
      ],
      "metadata": {
        "id": "kCsFS8Nm8KCH"
      }
    },
    {
      "cell_type": "code",
      "source": [
        "X_train, X_test, y_train, y_test = train_test_split(X, y, random_state=42)"
      ],
      "metadata": {
        "id": "MD8uneF15sYm"
      },
      "execution_count": null,
      "outputs": []
    },
    {
      "cell_type": "markdown",
      "source": [
        "MODEL TRAINING"
      ],
      "metadata": {
        "id": "Y7I77T318Tlm"
      }
    },
    {
      "cell_type": "code",
      "source": [
        "model = RandomForestClassifier(n_estimators=10, random_state=42)\n",
        "model.fit(X_train, y_train)"
      ],
      "metadata": {
        "id": "cmK9WFim5ywq"
      },
      "execution_count": null,
      "outputs": []
    },
    {
      "cell_type": "markdown",
      "source": [
        "PRINT TRAINING SCORE"
      ],
      "metadata": {
        "id": "6hQ5t9hG8Zuo"
      }
    },
    {
      "cell_type": "code",
      "source": [
        "print(f\"Training Score:{model.score(X_train,y_train)*100}%\")"
      ],
      "metadata": {
        "id": "c103OKZi56OQ"
      },
      "execution_count": null,
      "outputs": []
    },
    {
      "cell_type": "markdown",
      "source": [
        "PRINT TESTING SCORE"
      ],
      "metadata": {
        "id": "8Kuy0I_L8ceB"
      }
    },
    {
      "cell_type": "code",
      "source": [
        "print(f\"Test score:{model.score(X_test,y_test)*100}%\")"
      ],
      "metadata": {
        "id": "mAaDs9kI6BdA"
      },
      "execution_count": null,
      "outputs": []
    },
    {
      "cell_type": "markdown",
      "source": [
        "IMPORTANCE OF EACH FEATURES"
      ],
      "metadata": {
        "id": "gCBophCr8frR"
      }
    },
    {
      "cell_type": "code",
      "source": [
        "feature_importances = model.feature_importances_\n",
        "feature_importances"
      ],
      "metadata": {
        "id": "akljyBHv6Jjg"
      },
      "execution_count": null,
      "outputs": []
    },
    {
      "cell_type": "markdown",
      "source": [
        "CUSTOM INPUT / USER INPUT"
      ],
      "metadata": {
        "id": "kf9UUHMl8sRQ"
      }
    },
    {
      "cell_type": "code",
      "source": [
        "def predict_loan_approval():\n",
        "     # Get input values from the user\n",
        "     no_of_dependents = int(input(\"Enter the number of dependents: \"))\n",
        "     education = input(\"Enter education (0 for Graduate and 1 for Not Graduate): \")\n",
        "     self_employed = input(\"Are you self-employed? (1 for Yes and 0 for No): \")\n",
        "     income_annum = float(input(\"Enter the annual income: \"))\n",
        "     loan_amount = float(input(\"Enter the loan amount: \"))\n",
        "     loan_term = int(input(\"Enter the loan term (in months): \"))\n",
        "     cibil_score = int(input(\"Enter the CIBIL score: \"))\n",
        "     residential_assets_value = float(input(\"Enter the residential assets value: \"))\n",
        "     commercial_assets_value = float(input(\"Enter the commercial assets value: \"))\n",
        "     luxury_assets_value = float(input(\"Enter the luxury assets value: \"))\n",
        "     bank_asset_value = float(input(\"Enter the bank asset value: \"))\n",
        "\n",
        "     # Create a DataFrame for the user input\n",
        "     user_data = pd.DataFrame(\n",
        "         [[no_of_dependents, education, self_employed, income_annum, loan_amount, loan_term, cibil_score,\n",
        "           residential_assets_value, commercial_assets_value, luxury_assets_value, bank_asset_value]],\n",
        "         columns=['no_of_dependents', 'education', 'self_employed',\n",
        "        'income_annum', 'loan_amount', 'loan_term', 'cibil_score',\n",
        "        'residential_assets_value', 'commercial_assets_value',\n",
        "        'luxury_assets_value', 'bank_asset_value',]\n",
        "     )\n",
        "\n",
        "\n",
        "     # Make prediction\n",
        "     prediction = model.predict(user_data)[0]\n",
        "\n",
        "     print(f\"\\nLoan Approval Prediction: {prediction}\")\n",
        "\n",
        "predict_loan_approval()"
      ],
      "metadata": {
        "id": "jiSGoUjs6Lr9"
      },
      "execution_count": null,
      "outputs": []
    }
  ]
}